{
 "cells": [
  {
   "cell_type": "code",
   "execution_count": 21,
   "metadata": {},
   "outputs": [
    {
     "name": "stdout",
     "output_type": "stream",
     "text": [
      "1920 1080\n"
     ]
    },
    {
     "data": {
      "image/png": "[encoded data removed]",
      "text/plain": [
       "<PIL.Image.Image image mode=RGB size=50x15 at 0x1AE487CECD0>"
      ]
     },
     "execution_count": 21,
     "metadata": {},
     "output_type": "execute_result"
    }
   ],
   "source": [
    "# 좌표 이미지 확인\n",
    "import sys\n",
    "import pyautogui\n",
    "# 1920 * 1080\n",
    "# 모니터 1 = 0, 0 >> 960, 540       모니터2 = 960, 0 >> 960, 540\n",
    "width, height = pyautogui.size()\n",
    "print(width, height)\n",
    "pyautogui.screenshot(region=(12, 38, 50, 15)) "
   ]
  },
  {
   "cell_type": "code",
   "execution_count": 33,
   "metadata": {},
   "outputs": [
    {
     "name": "stdout",
     "output_type": "stream",
     "text": [
      "현재 좌표 :  Point(x=934, y=139)\n"
     ]
    }
   ],
   "source": [
    "# 좌표 확인\n",
    "import pyautogui\n",
    "from time import sleep\n",
    "   \n",
    "print(\"현재 좌표 : \", pyautogui.position())\n",
    "\n"
   ]
  },
  {
   "cell_type": "code",
   "execution_count": 161,
   "metadata": {},
   "outputs": [
    {
     "name": "stdout",
     "output_type": "stream",
     "text": [
      "135 115 73\n",
      "107 88 48\n",
      "131 112 72\n",
      "123 105 61\n",
      "145 125 84\n",
      "126 109 69\n",
      "112 94 56\n",
      "117 98 58\n",
      "130 111 69\n"
     ]
    },
    {
     "ename": "KeyboardInterrupt",
     "evalue": "",
     "output_type": "error",
     "traceback": [
      "\u001b[1;31m---------------------------------------------------------------------------\u001b[0m",
      "\u001b[1;31mKeyboardInterrupt\u001b[0m                         Traceback (most recent call last)",
      "\u001b[1;32mc:\\Users\\재철\\Desktop\\odin_mecro\\odin_mecro\\test.ipynb Cell 3'\u001b[0m in \u001b[0;36m<cell line: 2>\u001b[1;34m()\u001b[0m\n\u001b[0;32m      <a href='vscode-notebook-cell:/c%3A/Users/%EC%9E%AC%EC%B2%A0/Desktop/odin_mecro/odin_mecro/test.ipynb#ch0000007?line=2'>3</a>\u001b[0m r, g, b \u001b[39m=\u001b[39m pyautogui\u001b[39m.\u001b[39mpixel(x, y)\n\u001b[0;32m      <a href='vscode-notebook-cell:/c%3A/Users/%EC%9E%AC%EC%B2%A0/Desktop/odin_mecro/odin_mecro/test.ipynb#ch0000007?line=3'>4</a>\u001b[0m \u001b[39mprint\u001b[39m(r, g, b)\n\u001b[1;32m----> <a href='vscode-notebook-cell:/c%3A/Users/%EC%9E%AC%EC%B2%A0/Desktop/odin_mecro/odin_mecro/test.ipynb#ch0000007?line=4'>5</a>\u001b[0m sleep(\u001b[39m0.5\u001b[39;49m)\n",
      "\u001b[1;31mKeyboardInterrupt\u001b[0m: "
     ]
    }
   ],
   "source": [
    "while True:\n",
    "    x, y = pyautogui.position(915, 97)\n",
    "    r, g, b = pyautogui.pixel(x, y)\n",
    "    print(r, g, b)\n",
    "    sleep(0.5)"
   ]
  },
  {
   "cell_type": "code",
   "execution_count": null,
   "metadata": {},
   "outputs": [
    {
     "name": "stdout",
     "output_type": "stream",
     "text": [
      "Box(left=877, top=485, width=44, height=20)\n"
     ]
    }
   ],
   "source": [
    "# 이미지 인식 확인\n",
    "import sys\n",
    "import pyautogui\n",
    "import pywinauto\n",
    "from time import sleep\n",
    "\n",
    "test = pyautogui.locateOnScreen('image\\\\town_request_ok.jpg', confidence=0.9, region=(0, 0, 960, 540)) \n",
    "print(test)"
   ]
  },
  {
   "cell_type": "code",
   "execution_count": null,
   "metadata": {},
   "outputs": [],
   "source": [
    "# 이미지 실제 이미지 테스트\n",
    "import sys\n",
    "import pyautogui\n",
    "import pywinauto\n",
    "from time import sleep\n",
    "\n",
    "trl_confirm_q2 = pyautogui.locateOnScreen('image\\\\town_request_q2.jpg', confidence=0.9, region=(230, 100, 60, 60))\n",
    "trl_confirm_q3 = pyautogui.locateOnScreen('image\\\\town_request_q3.jpg', confidence=0.9, region=(230, 100, 60, 60))\n",
    "trl_ok = pyautogui.locateOnScreen('image\\\\town_request_ok.jpg', confidence=0.9, region=(230, 100, 60, 60))\n",
    "if trl_confirm_q2 or trl_confirm_q3:\n",
    "    print('상급 또는 최상급 퀘스트 존재 - 수락하기 클릭')\n",
    "    pyautogui.click(trl_ok)"
   ]
  },
  {
   "cell_type": "code",
   "execution_count": null,
   "metadata": {},
   "outputs": [
    {
     "name": "stdout",
     "output_type": "stream",
     "text": [
      "ODIN   Size(width=974, height=527)\n",
      "ODIN   Size(width=974, height=527)\n"
     ]
    }
   ],
   "source": [
    "# -*- coding: utf-8 -*-\n",
    "\n",
    "import sys\n",
    "import pyautogui\n",
    "import pywinauto\n",
    "\n",
    "odin = []\n",
    "\n",
    "for i in pyautogui.getWindowsWithTitle('ODIN'):\n",
    "    if i.title.strip() == 'ODIN':\n",
    "        print(i.title, i.size)\n",
    "        odin.append(i)\n",
    "\n",
    "if odin[1].isActive == False:\n",
    "    pywinauto.application.Application().connect(handle=odin[1]._hWnd).top_window().set_focus()\n",
    "    odin[1].resizeTo(974, 527)\n",
    "    odin[1].moveTo(-7, 0)\n",
    "\n",
    "pyautogui.press('F8')"
   ]
  },
  {
   "cell_type": "code",
   "execution_count": null,
   "metadata": {},
   "outputs": [
    {
     "name": "stdout",
     "output_type": "stream",
     "text": [
      "None\n"
     ]
    }
   ],
   "source": [
    "# -*- coding: utf-8 -*-\n",
    "\n",
    "import sys\n",
    "import pyautogui\n",
    "import pywinauto\n",
    "import pygetwindow as gw\n",
    "\n",
    "# odin = gw.getAllTitles()\n",
    "# odin_1 = gw.getWindowsWithTitle('ODIN')[1]\n",
    "# odin_2 = gw.getWindowsWithTitle('ODIN')[2]\n",
    "# print(odin)\n",
    "# print(odin_1)\n",
    "# print(odin_2)\n",
    "\n",
    "all_complete_map1 = pyautogui.locateOnScreen('image\\\\town_request_all_complete_check_4.jpg', region=(150, 450, 50, 40))\n",
    "print(all_complete_map1)\n"
   ]
  }
 ],
 "metadata": {
  "interpreter": {
   "hash": "92177de9317a138acb7d21f8db482f038c702cf45b17b4ba2d003e2c0f2edbd3"
  },
  "kernelspec": {
   "display_name": "Python 3.9.10 64-bit (system)",
   "language": "python",
   "name": "python3"
  },
  "language_info": {
   "codemirror_mode": {
    "name": "ipython",
    "version": 3
   },
   "file_extension": ".py",
   "mimetype": "text/x-python",
   "name": "python",
   "nbconvert_exporter": "python",
   "pygments_lexer": "ipython3",
   "version": "3.9.10"
  },
  "orig_nbformat": 4
 },
 "nbformat": 4,
 "nbformat_minor": 2
}
