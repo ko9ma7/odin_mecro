{
 "cells": [
  {
   "cell_type": "code",
   "execution_count": 1,
   "metadata": {},
   "outputs": [
    {
     "name": "stdout",
     "output_type": "stream",
     "text": [
      "1920 1200\n"
     ]
    },
    {
     "data": {
      "image/jpeg": "[encoded data removed]",
      "image/png": "[encoded data removed]",
      "text/plain": [
       "<PIL.Image.Image image mode=RGB size=120x80>"
      ]
     },
     "execution_count": 1,
     "metadata": {},
     "output_type": "execute_result"
    }
   ],
   "source": [
    "# 좌표 이미지 확인\n",
    "import sys\n",
    "import pyautogui\n",
    "# 1920 * 1080\n",
    "# 모니터 1 = 0, 0 >> 960, 540       모니터2 = 960, 0 >> 960, 540\n",
    "width, height = pyautogui.size()\n",
    "print(width, height)\n",
    "pyautogui.screenshot(region=(810, 130, 120, 80)) "
   ]
  },
  {
   "cell_type": "code",
   "execution_count": 5,
   "metadata": {},
   "outputs": [
    {
     "name": "stdout",
     "output_type": "stream",
     "text": [
      "현재 좌표 :  Point(x=17, y=198)\n"
     ]
    }
   ],
   "source": [
    "# 좌표 확인\n",
    "import pyautogui\n",
    "from time import sleep\n",
    "print(\"현재 좌표 : \", pyautogui.position())"
   ]
  },
  {
   "cell_type": "code",
   "execution_count": null,
   "metadata": {},
   "outputs": [],
   "source": [
    "while True:\n",
    "    x, y = pyautogui.position(915, 97)\n",
    "    r, g, b = pyautogui.pixel(x, y)\n",
    "    print(r, g, b)\n",
    "    sleep(0.5)"
   ]
  },
  {
   "cell_type": "code",
   "execution_count": 58,
   "metadata": {},
   "outputs": [
    {
     "name": "stdout",
     "output_type": "stream",
     "text": [
      "None\n"
     ]
    }
   ],
   "source": [
    "# 이미지 인식 확인\n",
    "import sys\n",
    "import pyautogui\n",
    "import pywinauto\n",
    "from time import sleep\n",
    "\n",
    "test = pyautogui.locateOnScreen('image\\\\guild_gibu.jpg', grayscale=True, confidence=0.9, region=(0, 0, 960, 540)) \n",
    "# test = pyautogui.locateOnScreen('image\\\\guild_gibu.jpg', confidence=0.9, region=(960, 0, 960, 540)) \n",
    "print(test)"
   ]
  },
  {
   "cell_type": "code",
   "execution_count": null,
   "metadata": {},
   "outputs": [],
   "source": [
    "# 이미지 실제 이미지 테스트\n",
    "import sys\n",
    "import pyautogui\n",
    "import pywinauto\n",
    "from time import sleep\n",
    "\n",
    "trl_confirm_q2 = pyautogui.locateOnScreen('image\\\\town_request_q2.jpg', confidence=0.9, region=(230, 100, 60, 60))\n",
    "trl_confirm_q3 = pyautogui.locateOnScreen('image\\\\town_request_q3.jpg', confidence=0.9, region=(230, 100, 60, 60))\n",
    "trl_ok = pyautogui.locateOnScreen('image\\\\town_request_ok.jpg', confidence=0.9, region=(230, 100, 60, 60))\n",
    "if trl_confirm_q2 or trl_confirm_q3:\n",
    "    print('상급 또는 최상급 퀘스트 존재 - 수락하기 클릭')\n",
    "    pyautogui.click(trl_ok)"
   ]
  },
  {
   "cell_type": "code",
   "execution_count": 2,
   "metadata": {},
   "outputs": [
    {
     "name": "stdout",
     "output_type": "stream",
     "text": [
      "ODIN   Size(width=160, height=28)\n",
      "ODIN   Size(width=160, height=28)\n"
     ]
    }
   ],
   "source": [
    "import pyautogui\n",
    "import pywinauto\n",
    "\n",
    "for i in pyautogui.getWindowsWithTitle('ODIN'):\n",
    "    if i.title.strip() == 'ODIN':\n",
    "        print(i.title, i.size)\n",
    "        "
   ]
  },
  {
   "cell_type": "code",
   "execution_count": 5,
   "metadata": {},
   "outputs": [
    {
     "name": "stdout",
     "output_type": "stream",
     "text": [
      "ODIN   Size(width=1552, height=903)\n",
      "ODIN   Size(width=160, height=28)\n"
     ]
    },
    {
     "name": "stderr",
     "output_type": "stream",
     "text": [
      "c:\\Users\\1st\\AppData\\Local\\Programs\\Python\\Python39\\lib\\site-packages\\pywinauto\\application.py:1010: UserWarning: Python process has no rights to make changes in the target GUI (run the script as Administrator)\n",
      "  warnings.warn(warning_text, UserWarning)\n"
     ]
    },
    {
     "ename": "PyGetWindowException",
     "evalue": "Error code from Windows: 5 - 액세스가 거부되었습니다.",
     "output_type": "error",
     "traceback": [
      "\u001b[1;31m---------------------------------------------------------------------------\u001b[0m",
      "\u001b[1;31mPyGetWindowException\u001b[0m                      Traceback (most recent call last)",
      "Cell \u001b[1;32mIn[5], line 12\u001b[0m\n\u001b[0;32m     10\u001b[0m \u001b[38;5;28;01mif\u001b[39;00m odin[\u001b[38;5;241m0\u001b[39m]\u001b[38;5;241m.\u001b[39misActive \u001b[38;5;241m==\u001b[39m \u001b[38;5;28;01mFalse\u001b[39;00m:\n\u001b[0;32m     11\u001b[0m     pywinauto\u001b[38;5;241m.\u001b[39mapplication\u001b[38;5;241m.\u001b[39mApplication()\u001b[38;5;241m.\u001b[39mconnect(handle\u001b[38;5;241m=\u001b[39modin[\u001b[38;5;241m0\u001b[39m]\u001b[38;5;241m.\u001b[39m_hWnd)\u001b[38;5;241m.\u001b[39mtop_window()\u001b[38;5;241m.\u001b[39mset_focus()\n\u001b[1;32m---> 12\u001b[0m     \u001b[43modin\u001b[49m\u001b[43m[\u001b[49m\u001b[38;5;241;43m0\u001b[39;49m\u001b[43m]\u001b[49m\u001b[38;5;241;43m.\u001b[39;49m\u001b[43mresizeTo\u001b[49m\u001b[43m(\u001b[49m\u001b[38;5;241;43m974\u001b[39;49m\u001b[43m,\u001b[49m\u001b[43m \u001b[49m\u001b[38;5;241;43m527\u001b[39;49m\u001b[43m)\u001b[49m  \u001b[38;5;66;03m# 창 사이즈 (변경금지)\u001b[39;00m\n\u001b[0;32m     13\u001b[0m     odin[\u001b[38;5;241m0\u001b[39m]\u001b[38;5;241m.\u001b[39mmoveTo(\u001b[38;5;241m-\u001b[39m\u001b[38;5;241m7\u001b[39m, \u001b[38;5;241m0\u001b[39m)       \u001b[38;5;66;03m# 창 위치 (변경금지)\u001b[39;00m\n\u001b[0;32m     14\u001b[0m     odin[\u001b[38;5;241m0\u001b[39m]\u001b[38;5;241m.\u001b[39mactivate()\n",
      "File \u001b[1;32mc:\\Users\\1st\\AppData\\Local\\Programs\\Python\\Python39\\lib\\site-packages\\pygetwindow\\_pygetwindow_win.py:260\u001b[0m, in \u001b[0;36mWin32Window.resizeTo\u001b[1;34m(self, newWidth, newHeight)\u001b[0m\n\u001b[0;32m    258\u001b[0m result \u001b[38;5;241m=\u001b[39m ctypes\u001b[38;5;241m.\u001b[39mwindll\u001b[38;5;241m.\u001b[39muser32\u001b[38;5;241m.\u001b[39mSetWindowPos(\u001b[38;5;28mself\u001b[39m\u001b[38;5;241m.\u001b[39m_hWnd, HWND_TOP, \u001b[38;5;28mself\u001b[39m\u001b[38;5;241m.\u001b[39mleft, \u001b[38;5;28mself\u001b[39m\u001b[38;5;241m.\u001b[39mtop, newWidth, newHeight, \u001b[38;5;241m0\u001b[39m)\n\u001b[0;32m    259\u001b[0m \u001b[38;5;28;01mif\u001b[39;00m result \u001b[38;5;241m==\u001b[39m \u001b[38;5;241m0\u001b[39m:\n\u001b[1;32m--> 260\u001b[0m     \u001b[43m_raiseWithLastError\u001b[49m\u001b[43m(\u001b[49m\u001b[43m)\u001b[49m\n",
      "File \u001b[1;32mc:\\Users\\1st\\AppData\\Local\\Programs\\Python\\Python39\\lib\\site-packages\\pygetwindow\\_pygetwindow_win.py:99\u001b[0m, in \u001b[0;36m_raiseWithLastError\u001b[1;34m()\u001b[0m\n\u001b[0;32m     96\u001b[0m \u001b[38;5;250m\u001b[39m\u001b[38;5;124;03m\"\"\"A helper function that raises PyGetWindowException using the error\u001b[39;00m\n\u001b[0;32m     97\u001b[0m \u001b[38;5;124;03minformation from GetLastError() and FormatMessage().\"\"\"\u001b[39;00m\n\u001b[0;32m     98\u001b[0m errorCode \u001b[38;5;241m=\u001b[39m ctypes\u001b[38;5;241m.\u001b[39mwindll\u001b[38;5;241m.\u001b[39mkernel32\u001b[38;5;241m.\u001b[39mGetLastError()\n\u001b[1;32m---> 99\u001b[0m \u001b[38;5;28;01mraise\u001b[39;00m PyGetWindowException(\u001b[38;5;124m'\u001b[39m\u001b[38;5;124mError code from Windows: \u001b[39m\u001b[38;5;132;01m%s\u001b[39;00m\u001b[38;5;124m - \u001b[39m\u001b[38;5;132;01m%s\u001b[39;00m\u001b[38;5;124m'\u001b[39m \u001b[38;5;241m%\u001b[39m (errorCode, _formatMessage(errorCode)))\n",
      "\u001b[1;31mPyGetWindowException\u001b[0m: Error code from Windows: 5 - 액세스가 거부되었습니다."
     ]
    }
   ],
   "source": [
    "import pywinauto\n",
    "\n",
    "odin = []\n",
    "\n",
    "for i in pyautogui.getWindowsWithTitle('ODIN'):\n",
    "    if i.title.strip() == 'ODIN':\n",
    "        print(i.title, i.size)\n",
    "        odin.append(i)\n",
    "\n",
    "if odin[0].isActive == False:\n",
    "    pywinauto.application.Application().connect(handle=odin[0]._hWnd).top_window().set_focus()\n",
    "    odin[0].resizeTo(974, 527)  # 창 사이즈 (변경금지)\n",
    "    odin[0].moveTo(-7, 0)       # 창 위치 (변경금지)\n",
    "    odin[0].activate()\n",
    "    sleep(1)\n",
    "    odin[0].activate()\n",
    "    sleep(1)"
   ]
  }
 ],
 "metadata": {
  "kernelspec": {
   "display_name": "Python 3",
   "language": "python",
   "name": "python3"
  },
  "language_info": {
   "codemirror_mode": {
    "name": "ipython",
    "version": 3
   },
   "file_extension": ".py",
   "mimetype": "text/x-python",
   "name": "python",
   "nbconvert_exporter": "python",
   "pygments_lexer": "ipython3",
   "version": "3.9.13"
  },
  "orig_nbformat": 4,
  "vscode": {
   "interpreter": {
    "hash": "fa7d82fa701ee2ca151306cec75a30e0b1d690cee025c68f93ef84e9c9a2588c"
   }
  }
 },
 "nbformat": 4,
 "nbformat_minor": 2
}
