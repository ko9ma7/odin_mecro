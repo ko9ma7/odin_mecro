{
 "cells": [
  {
   "cell_type": "code",
   "execution_count": null,
   "metadata": {},
   "outputs": [],
   "source": [
    "# 좌표 이미지 확인\n",
    "import sys\n",
    "import pyautogui\n",
    "# 1920 * 1080\n",
    "# 모니터 1 = 0, 0 >> 960, 540       모니터2 = 960, 0 >> 960, 540\n",
    "width, height = pyautogui.size()\n",
    "print(width, height)\n",
    "pyautogui.screenshot(region=(478, 319, 220, 120)) "
   ]
  },
  {
   "cell_type": "code",
   "execution_count": 62,
   "metadata": {},
   "outputs": [
    {
     "name": "stdout",
     "output_type": "stream",
     "text": [
      "현재 좌표 :  Point(x=908, y=495)\n"
     ]
    }
   ],
   "source": [
    "# 좌표 확인\n",
    "import pyautogui\n",
    "from time import sleep\n",
    "print(\"현재 좌표 : \", pyautogui.position())"
   ]
  },
  {
   "cell_type": "code",
   "execution_count": null,
   "metadata": {},
   "outputs": [],
   "source": [
    "while True:\n",
    "    x, y = pyautogui.position(915, 97)\n",
    "    r, g, b = pyautogui.pixel(x, y)\n",
    "    print(r, g, b)\n",
    "    sleep(0.5)"
   ]
  },
  {
   "cell_type": "code",
   "execution_count": 58,
   "metadata": {},
   "outputs": [
    {
     "name": "stdout",
     "output_type": "stream",
     "text": [
      "None\n"
     ]
    }
   ],
   "source": [
    "# 이미지 인식 확인\n",
    "import sys\n",
    "import pyautogui\n",
    "import pywinauto\n",
    "from time import sleep\n",
    "\n",
    "test = pyautogui.locateOnScreen('image\\\\guild_gibu.jpg', grayscale=True, confidence=0.9, region=(0, 0, 960, 540)) \n",
    "# test = pyautogui.locateOnScreen('image\\\\guild_gibu.jpg', confidence=0.9, region=(960, 0, 960, 540)) \n",
    "print(test)"
   ]
  },
  {
   "cell_type": "code",
   "execution_count": null,
   "metadata": {},
   "outputs": [],
   "source": [
    "# 이미지 실제 이미지 테스트\n",
    "import sys\n",
    "import pyautogui\n",
    "import pywinauto\n",
    "from time import sleep\n",
    "\n",
    "trl_confirm_q2 = pyautogui.locateOnScreen('image\\\\town_request_q2.jpg', confidence=0.9, region=(230, 100, 60, 60))\n",
    "trl_confirm_q3 = pyautogui.locateOnScreen('image\\\\town_request_q3.jpg', confidence=0.9, region=(230, 100, 60, 60))\n",
    "trl_ok = pyautogui.locateOnScreen('image\\\\town_request_ok.jpg', confidence=0.9, region=(230, 100, 60, 60))\n",
    "if trl_confirm_q2 or trl_confirm_q3:\n",
    "    print('상급 또는 최상급 퀘스트 존재 - 수락하기 클릭')\n",
    "    pyautogui.click(trl_ok)"
   ]
  }
 ],
 "metadata": {
  "kernelspec": {
   "display_name": "Python 3.9.10 64-bit (system)",
   "language": "python",
   "name": "python3"
  },
  "language_info": {
   "codemirror_mode": {
    "name": "ipython",
    "version": 3
   },
   "file_extension": ".py",
   "mimetype": "text/x-python",
   "name": "python",
   "nbconvert_exporter": "python",
   "pygments_lexer": "ipython3",
   "version": "3.9.10"
  },
  "orig_nbformat": 4,
  "vscode": {
   "interpreter": {
    "hash": "92177de9317a138acb7d21f8db482f038c702cf45b17b4ba2d003e2c0f2edbd3"
   }
  }
 },
 "nbformat": 4,
 "nbformat_minor": 2
}
