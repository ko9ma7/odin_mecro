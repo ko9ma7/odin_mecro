{
 "cells": [
  {
   "cell_type": "code",
   "execution_count": 85,
   "metadata": {},
   "outputs": [
    {
     "name": "stdout",
     "output_type": "stream",
     "text": [
      "1920 1080\n"
     ]
    },
    {
     "data": {
      "image/png": "[encoded data removed]",
      "text/plain": [
       "<PIL.Image.Image image mode=RGB size=160x70 at 0x17B7ED5DD60>"
      ]
     },
     "execution_count": 85,
     "metadata": {},
     "output_type": "execute_result"
    }
   ],
   "source": [
    "# -*- coding: utf-8 -*-\n",
    "\n",
    "import sys\n",
    "import pyautogui\n",
    "\n",
    "# 1920 * 1080\n",
    "# 모니터 1 = 0, 0 >> 960, 540       모니터2 = 960, 0 >> 960, 540\n",
    "\n",
    "\n",
    "width, height = pyautogui.size()\n",
    "print(width, height)\n",
    "\n",
    "pyautogui.screenshot(region=(900, 70, 50, 160)) \n",
    "# pyautogui.screenshot(region=(960, 0, 960, 540))\n",
    "\n"
   ]
  },
  {
   "cell_type": "code",
   "execution_count": 84,
   "metadata": {},
   "outputs": [
    {
     "name": "stdout",
     "output_type": "stream",
     "text": [
      "현재 좌표 :  Point(x=949, y=509)\n"
     ]
    }
   ],
   "source": [
    "import pyautogui\n",
    "\n",
    "print(\"현재 좌표 : \", pyautogui.position())"
   ]
  },
  {
   "cell_type": "code",
   "execution_count": 67,
   "metadata": {},
   "outputs": [
    {
     "name": "stdout",
     "output_type": "stream",
     "text": [
      "ODIN   Size(width=974, height=527)\n",
      "ODIN   Size(width=974, height=527)\n"
     ]
    }
   ],
   "source": [
    "# -*- coding: utf-8 -*-\n",
    "\n",
    "import sys\n",
    "import pyautogui\n",
    "import pywinauto\n",
    "\n",
    "odin = []\n",
    "\n",
    "for i in pyautogui.getWindowsWithTitle('ODIN'):\n",
    "    if i.title.strip() == 'ODIN':\n",
    "        print(i.title, i.size)\n",
    "        odin.append(i)\n",
    "\n",
    "if odin[1].isActive == False:\n",
    "    pywinauto.application.Application().connect(handle=odin[1]._hWnd).top_window().set_focus()\n",
    "    odin[1].resizeTo(974, 527)\n",
    "    odin[1].moveTo(-7, 0)\n",
    "\n",
    "pyautogui.press('F8')"
   ]
  },
  {
   "cell_type": "code",
   "execution_count": 57,
   "metadata": {},
   "outputs": [
    {
     "name": "stdout",
     "output_type": "stream",
     "text": [
      "['', '', '● test.ipynb - odin_mecro - Visual Studio Code [관리자]', '파이썬 윈도우 위치 크기지정 - Google 검색 - Chrome', 'ODIN  ', 'ODIN  ', 'image', 'image', '오딘: 발할라 라이징 | Daum게임 - Chrome', '계산기', '계산기', '', '오딘: 발할라 라이징 | Daum게임 - 프로필 1 - Microsoft\\u200b Edge', '오딘 단축키.txt - Windows 메모장', 'Microsoft Text Input Application', 'NVIDIA GeForce Overlay', '', '', '', '', '', '', '', '', '', '', 'Program Manager']\n",
      "<Win32Window left=\"953\", top=\"0\", width=\"974\", height=\"527\", title=\"ODIN  \">\n",
      "<Win32Window left=\"-7\", top=\"0\", width=\"974\", height=\"527\", title=\"ODIN  \">\n"
     ]
    }
   ],
   "source": [
    "# -*- coding: utf-8 -*-\n",
    "\n",
    "import sys\n",
    "import pyautogui\n",
    "import pywinauto\n",
    "import pygetwindow as gw\n",
    "\n",
    "odin = gw.getAllTitles()\n",
    "odin_1 = gw.getWindowsWithTitle('ODIN')[1]\n",
    "odin_2 = gw.getWindowsWithTitle('ODIN')[2]\n",
    "print(odin)\n",
    "print(odin_1)\n",
    "print(odin_2)\n"
   ]
  }
 ],
 "metadata": {
  "interpreter": {
   "hash": "92177de9317a138acb7d21f8db482f038c702cf45b17b4ba2d003e2c0f2edbd3"
  },
  "kernelspec": {
   "display_name": "Python 3.9.10 64-bit (system)",
   "language": "python",
   "name": "python3"
  },
  "language_info": {
   "codemirror_mode": {
    "name": "ipython",
    "version": 3
   },
   "file_extension": ".py",
   "mimetype": "text/x-python",
   "name": "python",
   "nbconvert_exporter": "python",
   "pygments_lexer": "ipython3",
   "version": "3.9.10"
  },
  "orig_nbformat": 4
 },
 "nbformat": 4,
 "nbformat_minor": 2
}
